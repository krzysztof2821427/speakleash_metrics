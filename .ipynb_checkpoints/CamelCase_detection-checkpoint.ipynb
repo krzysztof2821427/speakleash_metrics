{
 "cells": [
  {
   "cell_type": "code",
   "execution_count": 1,
   "metadata": {},
   "outputs": [],
   "source": [
    "import numpy as np\n",
    "import pandas as pd\n",
    "import pickle\n",
    "import plotly.express as px\n",
    "import spacy\n",
    "import regex as re\n",
    "\n",
    "from speakleash import Speakleash\n",
    "from ttictoc import tic,toc"
   ]
  },
  {
   "cell_type": "code",
   "execution_count": 2,
   "metadata": {},
   "outputs": [],
   "source": [
    "with open(\"df_feat_added_full.pkl\",\"rb\") as f:\n",
    "    df = pickle.load(f)"
   ]
  },
  {
   "cell_type": "code",
   "execution_count": 25,
   "metadata": {},
   "outputs": [
    {
     "name": "stdout",
     "output_type": "stream",
     "text": [
      "108.06973070000004\n"
     ]
    }
   ],
   "source": [
    "def find_camel(df):\n",
    "    tic()\n",
    "    camel_dict = {}\n",
    "    pattern = r\"\\b[A-Z]\\w*(?:\\s+[A-Z]\\w*)+\"\n",
    "    for i in df[\"name\"].values.tolist():   \n",
    "        text = str(df[\"text\"][df[\"name\"] == i])\n",
    "        result = [\"\".join(x.split()) for x in re.findall(pattern, text)]\n",
    "        camel_dict[i] = result\n",
    "    elapsed = toc()\n",
    "    print(elapsed)\n",
    "    return camel_dict\n",
    "\n",
    "\n",
    "camel_dict = find_camel(df)\n"
   ]
  },
  {
   "cell_type": "code",
   "execution_count": 26,
   "metadata": {},
   "outputs": [],
   "source": [
    "with open(\"dict_camel.pkl\",\"wb\") as f:\n",
    "    pickle.dump(camel_dict, f)"
   ]
  },
  {
   "cell_type": "code",
   "execution_count": 43,
   "metadata": {},
   "outputs": [],
   "source": [
    "camel_dict_df = pd.DataFrame(camel_dict.items(), columns=['file', 'CCase'])"
   ]
  },
  {
   "cell_type": "code",
   "execution_count": 44,
   "metadata": {},
   "outputs": [
    {
     "data": {
      "text/html": [
       "<div>\n",
       "<style scoped>\n",
       "    .dataframe tbody tr th:only-of-type {\n",
       "        vertical-align: middle;\n",
       "    }\n",
       "\n",
       "    .dataframe tbody tr th {\n",
       "        vertical-align: top;\n",
       "    }\n",
       "\n",
       "    .dataframe thead th {\n",
       "        text-align: right;\n",
       "    }\n",
       "</style>\n",
       "<table border=\"1\" class=\"dataframe\">\n",
       "  <thead>\n",
       "    <tr style=\"text-align: right;\">\n",
       "      <th></th>\n",
       "      <th>file</th>\n",
       "      <th>CCase</th>\n",
       "    </tr>\n",
       "  </thead>\n",
       "  <tbody>\n",
       "    <tr>\n",
       "      <th>0</th>\n",
       "      <td>10004020.txt</td>\n",
       "      <td>[]</td>\n",
       "    </tr>\n",
       "    <tr>\n",
       "      <th>1</th>\n",
       "      <td>10007360.txt</td>\n",
       "      <td>[]</td>\n",
       "    </tr>\n",
       "    <tr>\n",
       "      <th>2</th>\n",
       "      <td>10008763.txt</td>\n",
       "      <td>[]</td>\n",
       "    </tr>\n",
       "    <tr>\n",
       "      <th>3</th>\n",
       "      <td>10020990.txt</td>\n",
       "      <td>[]</td>\n",
       "    </tr>\n",
       "    <tr>\n",
       "      <th>4</th>\n",
       "      <td>1003015.txt</td>\n",
       "      <td>[]</td>\n",
       "    </tr>\n",
       "    <tr>\n",
       "      <th>...</th>\n",
       "      <td>...</td>\n",
       "      <td>...</td>\n",
       "    </tr>\n",
       "    <tr>\n",
       "      <th>28609</th>\n",
       "      <td>99997417.txt</td>\n",
       "      <td>[]</td>\n",
       "    </tr>\n",
       "    <tr>\n",
       "      <th>28610</th>\n",
       "      <td>99998238.txt</td>\n",
       "      <td>[]</td>\n",
       "    </tr>\n",
       "    <tr>\n",
       "      <th>28611</th>\n",
       "      <td>99998368.txt</td>\n",
       "      <td>[TYLKOUNAS]</td>\n",
       "    </tr>\n",
       "    <tr>\n",
       "      <th>28612</th>\n",
       "      <td>99998516.txt</td>\n",
       "      <td>[JanemBudziaszkiem]</td>\n",
       "    </tr>\n",
       "    <tr>\n",
       "      <th>28613</th>\n",
       "      <td>9999901.txt</td>\n",
       "      <td>[]</td>\n",
       "    </tr>\n",
       "  </tbody>\n",
       "</table>\n",
       "<p>28614 rows × 2 columns</p>\n",
       "</div>"
      ],
      "text/plain": [
       "               file                CCase\n",
       "0      10004020.txt                   []\n",
       "1      10007360.txt                   []\n",
       "2      10008763.txt                   []\n",
       "3      10020990.txt                   []\n",
       "4       1003015.txt                   []\n",
       "...             ...                  ...\n",
       "28609  99997417.txt                   []\n",
       "28610  99998238.txt                   []\n",
       "28611  99998368.txt          [TYLKOUNAS]\n",
       "28612  99998516.txt  [JanemBudziaszkiem]\n",
       "28613   9999901.txt                   []\n",
       "\n",
       "[28614 rows x 2 columns]"
      ]
     },
     "metadata": {},
     "output_type": "display_data"
    }
   ],
   "source": [
    "display(camel_dict_df)"
   ]
  },
  {
   "cell_type": "code",
   "execution_count": 46,
   "metadata": {},
   "outputs": [],
   "source": [
    "camel_dict_df['ccount'] = camel_dict_df.CCase.apply(len)"
   ]
  },
  {
   "cell_type": "code",
   "execution_count": 48,
   "metadata": {},
   "outputs": [
    {
     "data": {
      "text/plain": [
       "0    14412\n",
       "1    12221\n",
       "2     1953\n",
       "3       28\n",
       "Name: ccount, dtype: int64"
      ]
     },
     "execution_count": 48,
     "metadata": {},
     "output_type": "execute_result"
    }
   ],
   "source": [
    "camel_dict_df.ccount.value_counts()"
   ]
  },
  {
   "cell_type": "code",
   "execution_count": 49,
   "metadata": {},
   "outputs": [],
   "source": [
    "with open(\"dict_camel_df.pkl\",\"wb\") as f:\n",
    "    pickle.dump(camel_dict_df, f)"
   ]
  },
  {
   "cell_type": "code",
   "execution_count": null,
   "metadata": {},
   "outputs": [],
   "source": []
  }
 ],
 "metadata": {
  "kernelspec": {
   "display_name": "Python 3 (ipykernel)",
   "language": "python",
   "name": "python3"
  },
  "language_info": {
   "codemirror_mode": {
    "name": "ipython",
    "version": 3
   },
   "file_extension": ".py",
   "mimetype": "text/x-python",
   "name": "python",
   "nbconvert_exporter": "python",
   "pygments_lexer": "ipython3",
   "version": "3.8.3"
  }
 },
 "nbformat": 4,
 "nbformat_minor": 4
}

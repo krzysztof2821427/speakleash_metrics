{
 "cells": [
  {
   "cell_type": "code",
   "execution_count": 1,
   "metadata": {},
   "outputs": [],
   "source": [
    "import os\n",
    "import random\n",
    "import string\n",
    "\n",
    "import numpy as np\n",
    "import pandas as pd\n",
    "import pickle\n",
    "\n",
    "from speakleash import Speakleash"
   ]
  },
  {
   "cell_type": "code",
   "execution_count": 2,
   "metadata": {},
   "outputs": [],
   "source": [
    "base_dir = os.path.join(os.path.dirname(\"web_artykuły_religia\"))\n",
    "replicate_to = os.path.join(base_dir, \"datasets/religia\")\n",
    "sl = Speakleash(replicate_to)"
   ]
  },
  {
   "cell_type": "code",
   "execution_count": 3,
   "metadata": {
    "collapsed": true
   },
   "outputs": [],
   "source": [
    "# ds = sl.get(\"web_artykuły_religia\").data\n",
    "# for doc in ds:\n",
    "#     random_string = ''.join(random.choices(string.ascii_uppercase + string.digits, k=20))\n",
    "#     with open(\"datasets/religia/\"+random_string+\".txt\", 'w', encoding = \"utf-8\") as f:\n",
    "#         f.write(doc)\n",
    "\n",
    "# def get_meta(ds, lst=[]):\n",
    "#     for doc in ds:  \n",
    "#         txt, meta = doc\n",
    "#         lst.append(meta)\n",
    "#     return lst\n",
    "\n",
    "# def get_text(ds, lst=[]):\n",
    "#     for doc in ds:  \n",
    "#         txt, meta = doc\n",
    "#         lst.append(txt)\n",
    "#     return lst"
   ]
  },
  {
   "cell_type": "code",
   "execution_count": 4,
   "metadata": {},
   "outputs": [],
   "source": [
    "def get_data(ds):\n",
    "    lst1 = []\n",
    "    lst2 = []\n",
    "    for doc in ds:  \n",
    "        txt, meta = doc\n",
    "        lst1.append(meta)\n",
    "        lst2.append(txt)\n",
    "    frame = pd.DataFrame(lst1)\n",
    "    frame['text'] = lst2\n",
    "    frame['name'] = frame['name'].apply(lambda x: x.split('\\\\')[-1])\n",
    "    return frame"
   ]
  },
  {
   "cell_type": "code",
   "execution_count": 5,
   "metadata": {},
   "outputs": [],
   "source": [
    "ds = sl.get(\"web_artykuły_religia\").ext_data\n",
    "df = pd.DataFrame(get_data(ds))"
   ]
  },
  {
   "cell_type": "code",
   "execution_count": 6,
   "metadata": {},
   "outputs": [
    {
     "data": {
      "text/html": [
       "<div>\n",
       "<style scoped>\n",
       "    .dataframe tbody tr th:only-of-type {\n",
       "        vertical-align: middle;\n",
       "    }\n",
       "\n",
       "    .dataframe tbody tr th {\n",
       "        vertical-align: top;\n",
       "    }\n",
       "\n",
       "    .dataframe thead th {\n",
       "        text-align: right;\n",
       "    }\n",
       "</style>\n",
       "<table border=\"1\" class=\"dataframe\">\n",
       "  <thead>\n",
       "    <tr style=\"text-align: right;\">\n",
       "      <th></th>\n",
       "      <th>name</th>\n",
       "      <th>length</th>\n",
       "      <th>sentences</th>\n",
       "      <th>words</th>\n",
       "      <th>verbs</th>\n",
       "      <th>nouns</th>\n",
       "      <th>punctuations</th>\n",
       "      <th>symbols</th>\n",
       "      <th>stopwords</th>\n",
       "      <th>text</th>\n",
       "    </tr>\n",
       "  </thead>\n",
       "  <tbody>\n",
       "    <tr>\n",
       "      <th>28609</th>\n",
       "      <td>99997417.txt</td>\n",
       "      <td>4177</td>\n",
       "      <td>52</td>\n",
       "      <td>608</td>\n",
       "      <td>63</td>\n",
       "      <td>198</td>\n",
       "      <td>91</td>\n",
       "      <td>0</td>\n",
       "      <td>200</td>\n",
       "      <td>W tym tygodniu od poniedziałku do środy msza ś...</td>\n",
       "    </tr>\n",
       "    <tr>\n",
       "      <th>28610</th>\n",
       "      <td>99998238.txt</td>\n",
       "      <td>5252</td>\n",
       "      <td>55</td>\n",
       "      <td>782</td>\n",
       "      <td>74</td>\n",
       "      <td>221</td>\n",
       "      <td>118</td>\n",
       "      <td>0</td>\n",
       "      <td>284</td>\n",
       "      <td>W podziękowaniu za pół wieku posługi organisto...</td>\n",
       "    </tr>\n",
       "    <tr>\n",
       "      <th>28611</th>\n",
       "      <td>99998368.txt</td>\n",
       "      <td>43097</td>\n",
       "      <td>271</td>\n",
       "      <td>6680</td>\n",
       "      <td>403</td>\n",
       "      <td>1619</td>\n",
       "      <td>1915</td>\n",
       "      <td>118</td>\n",
       "      <td>2092</td>\n",
       "      <td>TAK ŁADNIE -TYLKO U NAS, ZAGLĄDNIJ ►\\nHasło: N...</td>\n",
       "    </tr>\n",
       "    <tr>\n",
       "      <th>28612</th>\n",
       "      <td>99998516.txt</td>\n",
       "      <td>8030</td>\n",
       "      <td>85</td>\n",
       "      <td>1266</td>\n",
       "      <td>165</td>\n",
       "      <td>266</td>\n",
       "      <td>246</td>\n",
       "      <td>0</td>\n",
       "      <td>566</td>\n",
       "      <td>Rozmowa z Janem Budziaszkiem urodzonym w 1945 ...</td>\n",
       "    </tr>\n",
       "    <tr>\n",
       "      <th>28613</th>\n",
       "      <td>9999901.txt</td>\n",
       "      <td>5540</td>\n",
       "      <td>52</td>\n",
       "      <td>739</td>\n",
       "      <td>43</td>\n",
       "      <td>260</td>\n",
       "      <td>149</td>\n",
       "      <td>0</td>\n",
       "      <td>209</td>\n",
       "      <td>Propozycja - Dzień Życia Konsekrowanego 2023 2...</td>\n",
       "    </tr>\n",
       "  </tbody>\n",
       "</table>\n",
       "</div>"
      ],
      "text/plain": [
       "               name  length  sentences  words  verbs  nouns  punctuations  \\\n",
       "28609  99997417.txt    4177         52    608     63    198            91   \n",
       "28610  99998238.txt    5252         55    782     74    221           118   \n",
       "28611  99998368.txt   43097        271   6680    403   1619          1915   \n",
       "28612  99998516.txt    8030         85   1266    165    266           246   \n",
       "28613   9999901.txt    5540         52    739     43    260           149   \n",
       "\n",
       "       symbols  stopwords                                               text  \n",
       "28609        0        200  W tym tygodniu od poniedziałku do środy msza ś...  \n",
       "28610        0        284  W podziękowaniu za pół wieku posługi organisto...  \n",
       "28611      118       2092  TAK ŁADNIE -TYLKO U NAS, ZAGLĄDNIJ ►\\nHasło: N...  \n",
       "28612        0        566  Rozmowa z Janem Budziaszkiem urodzonym w 1945 ...  \n",
       "28613        0        209  Propozycja - Dzień Życia Konsekrowanego 2023 2...  "
      ]
     },
     "execution_count": 6,
     "metadata": {},
     "output_type": "execute_result"
    }
   ],
   "source": [
    "df.tail()"
   ]
  },
  {
   "cell_type": "code",
   "execution_count": 7,
   "metadata": {},
   "outputs": [],
   "source": [
    "# with open(\"df_meta.pkl\",\"wb\") as f:\n",
    "#     pickle.dump(df_meta, f)\n",
    "    \n",
    "# with open(\"df_text.pkl\",\"wb\") as f:\n",
    "#     pickle.dump(df_text, f)\n",
    "    \n",
    "with open(\"df_metatext.pkl\",\"wb\") as f:\n",
    "    pickle.dump(df, f)"
   ]
  }
 ],
 "metadata": {
  "kernelspec": {
   "display_name": "Python 3 (ipykernel)",
   "language": "python",
   "name": "python3"
  },
  "language_info": {
   "codemirror_mode": {
    "name": "ipython",
    "version": 3
   },
   "file_extension": ".py",
   "mimetype": "text/x-python",
   "name": "python",
   "nbconvert_exporter": "python",
   "pygments_lexer": "ipython3",
   "version": "3.8.3"
  }
 },
 "nbformat": 4,
 "nbformat_minor": 4
}

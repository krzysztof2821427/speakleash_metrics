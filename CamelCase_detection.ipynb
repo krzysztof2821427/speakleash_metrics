{
 "cells": [
  {
   "cell_type": "code",
   "execution_count": 1,
   "metadata": {},
   "outputs": [],
   "source": [
    "import numpy as np\n",
    "import pandas as pd\n",
    "import pickle\n",
    "import plotly.express as px\n",
    "import spacy\n",
    "import regex as re\n",
    "\n",
    "from speakleash import Speakleash\n",
    "from ttictoc import tic,toc"
   ]
  },
  {
   "cell_type": "code",
   "execution_count": 2,
   "metadata": {},
   "outputs": [],
   "source": [
    "with open(\"df_feat_added_full.pkl\",\"rb\") as f:\n",
    "    df = pickle.load(f)"
   ]
  },
  {
   "cell_type": "code",
   "execution_count": 3,
   "metadata": {},
   "outputs": [
    {
     "name": "stdout",
     "output_type": "stream",
     "text": [
      "16.457508399999995\n"
     ]
    }
   ],
   "source": [
    "#Creating a dictionary, with file names as keys, and list of camel words as values\n",
    "\n",
    "pattern = re.compile(r\"\\b[a-z]+[A-Z][a-z]+\\b\")\n",
    "def find_camel(df):\n",
    "    tic()\n",
    "    camel_dict = {}\n",
    "    for name, text in df[['name', 'text']].values:\n",
    "        result = [\"\".join(x.split()) for x in re.findall(pattern, str(text))]\n",
    "        camel_dict[name] = result\n",
    "    elapsed = toc()\n",
    "    print(elapsed)\n",
    "    return camel_dict\n",
    "\n",
    "\n",
    "camel_dict = find_camel(df)\n"
   ]
  },
  {
   "cell_type": "code",
   "execution_count": 4,
   "metadata": {},
   "outputs": [],
   "source": [
    "with open(\"dict_camel.pkl\",\"wb\") as f:\n",
    "    pickle.dump(camel_dict, f)"
   ]
  },
  {
   "cell_type": "code",
   "execution_count": 5,
   "metadata": {},
   "outputs": [],
   "source": [
    "# Creating a dataframe\n",
    "\n",
    "camel_dict_df = pd.DataFrame(camel_dict.items(), columns=['file', 'CCase'])"
   ]
  },
  {
   "cell_type": "code",
   "execution_count": 6,
   "metadata": {},
   "outputs": [
    {
     "data": {
      "text/html": [
       "<div>\n",
       "<style scoped>\n",
       "    .dataframe tbody tr th:only-of-type {\n",
       "        vertical-align: middle;\n",
       "    }\n",
       "\n",
       "    .dataframe tbody tr th {\n",
       "        vertical-align: top;\n",
       "    }\n",
       "\n",
       "    .dataframe thead th {\n",
       "        text-align: right;\n",
       "    }\n",
       "</style>\n",
       "<table border=\"1\" class=\"dataframe\">\n",
       "  <thead>\n",
       "    <tr style=\"text-align: right;\">\n",
       "      <th></th>\n",
       "      <th>file</th>\n",
       "      <th>CCase</th>\n",
       "    </tr>\n",
       "  </thead>\n",
       "  <tbody>\n",
       "    <tr>\n",
       "      <th>0</th>\n",
       "      <td>10004020.txt</td>\n",
       "      <td>[]</td>\n",
       "    </tr>\n",
       "    <tr>\n",
       "      <th>1</th>\n",
       "      <td>10007360.txt</td>\n",
       "      <td>[]</td>\n",
       "    </tr>\n",
       "    <tr>\n",
       "      <th>2</th>\n",
       "      <td>10008763.txt</td>\n",
       "      <td>[]</td>\n",
       "    </tr>\n",
       "    <tr>\n",
       "      <th>3</th>\n",
       "      <td>10020990.txt</td>\n",
       "      <td>[]</td>\n",
       "    </tr>\n",
       "    <tr>\n",
       "      <th>4</th>\n",
       "      <td>1003015.txt</td>\n",
       "      <td>[]</td>\n",
       "    </tr>\n",
       "    <tr>\n",
       "      <th>...</th>\n",
       "      <td>...</td>\n",
       "      <td>...</td>\n",
       "    </tr>\n",
       "    <tr>\n",
       "      <th>28609</th>\n",
       "      <td>99997417.txt</td>\n",
       "      <td>[]</td>\n",
       "    </tr>\n",
       "    <tr>\n",
       "      <th>28610</th>\n",
       "      <td>99998238.txt</td>\n",
       "      <td>[]</td>\n",
       "    </tr>\n",
       "    <tr>\n",
       "      <th>28611</th>\n",
       "      <td>99998368.txt</td>\n",
       "      <td>[]</td>\n",
       "    </tr>\n",
       "    <tr>\n",
       "      <th>28612</th>\n",
       "      <td>99998516.txt</td>\n",
       "      <td>[]</td>\n",
       "    </tr>\n",
       "    <tr>\n",
       "      <th>28613</th>\n",
       "      <td>9999901.txt</td>\n",
       "      <td>[]</td>\n",
       "    </tr>\n",
       "  </tbody>\n",
       "</table>\n",
       "<p>28614 rows × 2 columns</p>\n",
       "</div>"
      ],
      "text/plain": [
       "               file CCase\n",
       "0      10004020.txt    []\n",
       "1      10007360.txt    []\n",
       "2      10008763.txt    []\n",
       "3      10020990.txt    []\n",
       "4       1003015.txt    []\n",
       "...             ...   ...\n",
       "28609  99997417.txt    []\n",
       "28610  99998238.txt    []\n",
       "28611  99998368.txt    []\n",
       "28612  99998516.txt    []\n",
       "28613   9999901.txt    []\n",
       "\n",
       "[28614 rows x 2 columns]"
      ]
     },
     "metadata": {},
     "output_type": "display_data"
    }
   ],
   "source": [
    "display(camel_dict_df)"
   ]
  },
  {
   "cell_type": "code",
   "execution_count": 7,
   "metadata": {},
   "outputs": [],
   "source": [
    "camel_dict_df = pd.DataFrame(camel_dict.items(), columns=['file', 'CCase'])"
   ]
  },
  {
   "cell_type": "code",
   "execution_count": 8,
   "metadata": {},
   "outputs": [],
   "source": [
    "# Counting camel words in each list:\n",
    "\n",
    "camel_dict_df['ccount'] = camel_dict_df.CCase.apply(len)"
   ]
  },
  {
   "cell_type": "code",
   "execution_count": 19,
   "metadata": {},
   "outputs": [
    {
     "data": {
      "text/plain": [
       "907"
      ]
     },
     "execution_count": 19,
     "metadata": {},
     "output_type": "execute_result"
    }
   ],
   "source": [
    "camel_dict_df['ccount'].sum()"
   ]
  },
  {
   "cell_type": "code",
   "execution_count": 9,
   "metadata": {},
   "outputs": [
    {
     "data": {
      "text/plain": [
       "0      28214\n",
       "1        264\n",
       "2        100\n",
       "3         16\n",
       "5          4\n",
       "4          4\n",
       "15         3\n",
       "6          2\n",
       "46         1\n",
       "45         1\n",
       "108        1\n",
       "28         1\n",
       "8          1\n",
       "34         1\n",
       "33         1\n",
       "Name: ccount, dtype: int64"
      ]
     },
     "execution_count": 9,
     "metadata": {},
     "output_type": "execute_result"
    }
   ],
   "source": [
    "camel_dict_df.ccount.value_counts()"
   ]
  },
  {
   "cell_type": "code",
   "execution_count": 10,
   "metadata": {},
   "outputs": [],
   "source": [
    "with open(\"dict_camel_df.pkl\",\"wb\") as f:\n",
    "    pickle.dump(camel_dict_df, f)"
   ]
  },
  {
   "cell_type": "code",
   "execution_count": 11,
   "metadata": {},
   "outputs": [
    {
     "data": {
      "text/html": [
       "<div>\n",
       "<style scoped>\n",
       "    .dataframe tbody tr th:only-of-type {\n",
       "        vertical-align: middle;\n",
       "    }\n",
       "\n",
       "    .dataframe tbody tr th {\n",
       "        vertical-align: top;\n",
       "    }\n",
       "\n",
       "    .dataframe thead th {\n",
       "        text-align: right;\n",
       "    }\n",
       "</style>\n",
       "<table border=\"1\" class=\"dataframe\">\n",
       "  <thead>\n",
       "    <tr style=\"text-align: right;\">\n",
       "      <th></th>\n",
       "      <th>file</th>\n",
       "      <th>CCase</th>\n",
       "      <th>ccount</th>\n",
       "    </tr>\n",
       "  </thead>\n",
       "  <tbody>\n",
       "    <tr>\n",
       "      <th>247</th>\n",
       "      <td>11292375.txt</td>\n",
       "      <td>[zUniwersytetu, stroneJesli]</td>\n",
       "      <td>2</td>\n",
       "    </tr>\n",
       "    <tr>\n",
       "      <th>309</th>\n",
       "      <td>11652464.txt</td>\n",
       "      <td>[znJakiem, misJjach]</td>\n",
       "      <td>2</td>\n",
       "    </tr>\n",
       "    <tr>\n",
       "      <th>495</th>\n",
       "      <td>12541236.txt</td>\n",
       "      <td>[pPoza, polichromowanychRealizacja]</td>\n",
       "      <td>2</td>\n",
       "    </tr>\n",
       "    <tr>\n",
       "      <th>615</th>\n",
       "      <td>13128733.txt</td>\n",
       "      <td>[kWh, kWh]</td>\n",
       "      <td>2</td>\n",
       "    </tr>\n",
       "    <tr>\n",
       "      <th>740</th>\n",
       "      <td>13685894.txt</td>\n",
       "      <td>[kWh, kWh]</td>\n",
       "      <td>2</td>\n",
       "    </tr>\n",
       "    <tr>\n",
       "      <th>...</th>\n",
       "      <td>...</td>\n",
       "      <td>...</td>\n",
       "      <td>...</td>\n",
       "    </tr>\n",
       "    <tr>\n",
       "      <th>25568</th>\n",
       "      <td>95920040.txt</td>\n",
       "      <td>[jakRedemptorhominis, czyVeritatis]</td>\n",
       "      <td>2</td>\n",
       "    </tr>\n",
       "    <tr>\n",
       "      <th>26514</th>\n",
       "      <td>97482201.txt</td>\n",
       "      <td>[moSe, budSetu]</td>\n",
       "      <td>2</td>\n",
       "    </tr>\n",
       "    <tr>\n",
       "      <th>27203</th>\n",
       "      <td>98430487.txt</td>\n",
       "      <td>[uCoz, uCoz]</td>\n",
       "      <td>2</td>\n",
       "    </tr>\n",
       "    <tr>\n",
       "      <th>27748</th>\n",
       "      <td>99122522.txt</td>\n",
       "      <td>[niebaWszystkie, niebaWszystkie]</td>\n",
       "      <td>2</td>\n",
       "    </tr>\n",
       "    <tr>\n",
       "      <th>27855</th>\n",
       "      <td>99246910.txt</td>\n",
       "      <td>[moimPan, moimPan]</td>\n",
       "      <td>2</td>\n",
       "    </tr>\n",
       "  </tbody>\n",
       "</table>\n",
       "<p>100 rows × 3 columns</p>\n",
       "</div>"
      ],
      "text/plain": [
       "               file                                CCase  ccount\n",
       "247    11292375.txt         [zUniwersytetu, stroneJesli]       2\n",
       "309    11652464.txt                 [znJakiem, misJjach]       2\n",
       "495    12541236.txt  [pPoza, polichromowanychRealizacja]       2\n",
       "615    13128733.txt                           [kWh, kWh]       2\n",
       "740    13685894.txt                           [kWh, kWh]       2\n",
       "...             ...                                  ...     ...\n",
       "25568  95920040.txt  [jakRedemptorhominis, czyVeritatis]       2\n",
       "26514  97482201.txt                      [moSe, budSetu]       2\n",
       "27203  98430487.txt                         [uCoz, uCoz]       2\n",
       "27748  99122522.txt     [niebaWszystkie, niebaWszystkie]       2\n",
       "27855  99246910.txt                   [moimPan, moimPan]       2\n",
       "\n",
       "[100 rows x 3 columns]"
      ]
     },
     "execution_count": 11,
     "metadata": {},
     "output_type": "execute_result"
    }
   ],
   "source": [
    "camel_dict_df[camel_dict_df['ccount']==2]"
   ]
  },
  {
   "cell_type": "code",
   "execution_count": 12,
   "metadata": {},
   "outputs": [
    {
     "data": {
      "text/plain": [
       "'Grupa\\nKatolickiej Odnowy w Duchu Świętym\\nWieczernik\\nprzy Parafii Rzymskokatolickiej\\np.w. Narodzenia Najświętszej Maryi Panny\\nw Głubczycach.\\nSŁOWO LIDERA GRUPY\\n- DODANO: Głubczyce 04 czerwca 2017r.\\nSzczęść Boże!\\nMam na imię Ryszard i od 12 października 2016 roku jestem nowo wybranym Liderem Grupy Modlitewnej Katolickiej Odnowy w Duchu Świętym WIECZERNIK posługującej przy naszej Parafii.\\nNiedziela Zesłania Ducha Świętego jest dniem szczególnym dla Odnowy, ale również dla każdego wierzącego. To, co było zapowiadane w czytaniach i Ewangeliach okresu wielkanoc-nego słowami Jezusa: Ja zaś będę prosił Ojca, a innego Parakleta da wam, aby z wami był na zawsze-Ducha Prawdy, którego świat przyjąć nie może, ponieważ Go nie widzi ani nie zna. Ale wy Go znacie, ponieważ w was przebywa i w was będzie. Nie zostawię was sierotami. Przyjdę do was. (J14,16-19) nastąpiło w dniu Pięćdziesiątnicy.\\nJak ważna jest obecność Ducha Świętego, skoro Jezus stawia ją ponad swoją własną, tak przecież istotną. Sam mówi: ”Pożyteczne jest dla was moje odejście”, warunkujące przyjście Ducha. Jezus nazywa go Parakletem, czyli Pocieszycielem, który prowadzi „do całej prawdy” o grzechu, sprawiedliwości i sądzie. Pocieszyciel pokrzepia, wlewa radość, uczy jak być świadkiem prawdy, co mówić i jak się zachować, gdy trzeba dać świadectwo.\\nPonad 2000 lat temu Pan posłał Ducha zalążkowi Kościoła (12 Apostołom) by obdarzyć go odwagą, graniczącą z szaleństwem. Bo czym innym, jeśli nie szaleństwem, była odwaga wyjścia z Wieczernika (zbieżność nazwy naszej Grupy) i głoszenia Dobrej Nowiny o największym z wrogów ówczesnego establishmentu-Jezusie Chrystusie.\\nTyle samo lat mija od chwili, kiedy Duch Święty rozpoczął szaleństwo miłości w Chrystusowym Kościele. Dobrą Nowiną na dziś dla mnie, dla Ciebie Bracie i Siostro jest to, że nie widać, by Paraklet planował się uspokoić w najbliższym czasie.\\nW tym roku w Rzymie obchodzimy 50 lat powstania ruchu Odnowy w Duchu Świętym. Za początek katolickiej Odnowy Charyzmatycznej uważa się rok 1967, a miejscem jej „narodzin\" był Katolicki Uniwersytet w Pittsburghu w Stanach Zjednoczonych. Wówczas grupa trzydziestu osób, wśród których byli studenci i profesorowie tej uczelni, odprawiała weekendowe rekolekcje w dniach 17-19 lutego 1967r. Rozważania oparte były na czterech pierwszych rozdziałach Dziejów Apostolskich. W sobotni wieczór wielu z obecnych doświadczyło zjawiska, które wkrótce zostało uznane za centralne doświadczenie Odnowy – a które zaczęto nazywać chrztem w Duchu Świętym, bądź wylaniem Ducha Świętego.\\nDzisiaj w naszym Kościele 50 dni po Zmartwychwstaniu upamiętniamy zesłanie Ducha Świętego, dzięki któremu umacniamy się jako Kościół Boży, przeniknięty misją miłości.\\nProsimy, by tak jak w pierwotnym Kościele, Duch Święty przenikał nasze serca, rozpalał w nich miłość bratnią i posyłał nas z orędziem Dobrej Nowiny o zbawieniu, które przynosi Jezus Chrystus.\\nJako Grupa Modlitewna istniejąca przy naszej Parafii już 20 lat (w tym roku obchodzić będziemy jubileusz) chcemy nadal trwać w posłudze Kościołowi i czerpać owoce z winnicy Pańskiej.\\nPragnę pracować nad utrzymaniem jedności grupy, zapewnieniem aktywnej formacji duchowej indywidualnej oraz grupowej.\\nJednak nasza grupa „starzeje się i zmniejsza” z powodu braku napływu nowych uczestników.\\nDlatego, zwracam się do Was, drogie Siostry i drodzy Bracia, jeżeli czujecie potrzebę pogłębienia osobistej relacji z Jezusem, zapraszamy do nas, na spotkania modlitewno-formacyjne grupy (spotykamy się w czwartki po wieczornej Mszy św.)\\nJeżeli potrafisz grać na instrumentach muzycznych i lubisz śpiewać możesz wesprzeć naszą diakonię muzyczną i wspólnie będziemy wielbić Boga muzyką i śpiewem.\\nJeżeli bliższe są Ci tradycyjne formy modlitwy, możesz się realizować włączając się w prowadzenie Koronki do Miłosierdzia Bożego w kaplicy szpitalnej od poniedziałku do soboty – kontynuując tym samym orędzie skierowane do Św. Faustyny przez Jezusa lub też włączyć się w odmawianie Różańca, przed wieczorną Mszą Św. - odpowiadając na Apel Matki Bożej z Fatimy.\\nJeżeli masz talent i chciałbyś prowadzić dalej naszą kronikę przyjdź wręcz z pośpiechem!\\nJeżeli poruszyło Cię wezwanie Papieża Franciszka, do „ruszenia się z kanapy”, a nie wiesz jak to zrobić, przyjdź do nas, my podzielimy się naszym doświadczeniem i planami na przyszłość, które dzięki Twojej Siostro i Bracie, pomocy będziemy mogli realizować na Chwałę Pana!\\nZapraszamy młodych wiekiem i młodych duchem, małżeństwa - by mogło powstać przy naszej Parafii, duszpasterstwo młodzieży, małżeństw i dzieci.\\nStarsi podzielą się wiedzą i doświadczeniem w przekazywaniu wiary w domu, rodzinie, a młodzi zainspirują nas do nowych zadań i form głoszenia Słowa Bożego.\\nMłodzież zachęcam by podzieliła się swoimi oczekiwaniami i podpowiedziała, jak zmienić tę sytuację, aby Sakrament Bierzmowania, otwierający nowy przebogaty początek życia duchowego młodego człowieka, nie stanowił często końca żywego uczestniczenia młodzieży w życiu Kościoła i Parafii.\\nPoruszonych moim zaproszeniem i wezwaniem Papieża Franciszka do „ruszenia się z kanapy” zapraszam na spotkanie naszej Grupy, bądź do kontaktu osobistego ze mną ,animatorami lub innymi członkami Grupy. Zapraszam do dialogu i dzielenia się, aby zacząć rozmawiać o naszej wierze. (mój adres e-mailowy: ryszard.michalik@gmail.com) .\\nPrzyjdźcie, radośnie uwielbiajmy Pana! Słuchajmy i otwierajmy się na Słowo Boże! Otwórzmy się na dary Ducha Świętego!\\nCHWAŁA PANU!\\nDziękuję Bogu za WAS, Duchowi Św. za natchnienie i umocnienie!\\nSZCZĘŚĆ WAM BOŻE!\\nCzym więc jest uwielbienie?\\nTo mówienie Bogu „tak” we wszystkich sytuacjach życiowych - tych największych, ale również najprostszych. To oddawanie chwały w każdym momencie, niezależnie od tego, czy sprawy idą po naszej myśli, czy nie. Pozwala zawsze być zakotwiczonym w Jezusie i przezwyciężać wszystkie trudne doświadczenia, które nas spotykają.\\no4 czerwca 2o17r.\\nTREŚCI ARCHIWALNE:\\nRuch Katolickiej Odnowy w Duchu Świętym narodził się w 1967roku w środowisku studenckim w Pittsburghu (USA). Dziś rozrósł się na wszystkie kontynenty a w Polsce także istnieje już od ponad 40 lat.\\nGrupa głubczycka powstała w 1997 roku a jej nazwa WIECZERNIK nawiązuje do zesłania Ducha Świętego na apostołów właśnie w Wieczerniku. Grupą liczącą zmiennie kilkadziesiąt osób kolejno opiekowali się Księża Wikariusze Parafii Głubczyce: ks. Waldemar, ks. Grzegorz, ks. Marian, ks. Donat, ks. Marcin, ks. Mariusz - a obecnie ks. Tomasz.\\n14 lutego 2o11r został podpisany przez ks. Biskupa Andrzeja Czaję i diecezjalnego koordynatora, ks. Eugeniusza Plocha, Statut Katolickiej Odnowy w Duchu Świętym Diecezji Opolskiej, który wszedł w życie także w naszej grupie.\\nSpotkania odbywają się w naszej salce parafialnej w czwartki, po wieczornej Mszy świętej, a kończą Apelem Jasnogórskim o g. 21.oo.\\nKażdą z kilkunastu grup ODNOWY w Diecezji Opolskiej wyróżnia jakiś konkretny charyzmat. Tym charyzmatem w naszej głubczyckiej grupie jest MODLITWA WSTAWIENNICZA. Kilka lat temu - zapewne za łaską Bożą - odczuliśmy potrzebę modlitwy nie tyle za siebie co za innych, a konkretnie ZA MŁODZIEŻ. Bóg uświadomił nam, jak ostatnio młodzi są zniewalani i pozostawieni samym sobie.\\nModlitwa za kogoś - a daj Boże nawet za nieprzyjaciół - jest Bogu bardzo\\nmiła a jej owocami jest obdarowywany ten, kto jest polecany w modlitwie\\nale także sam modlący się.\\nModlimy się także poza systematycznymi spotkaniami tygodniowymi. Kiedy i jak?\\nOdmawianiem Różańca świętego w kościele przed wieczorną Mszą św: w poniedziałki za dzieci i młodzież, we wtorki za rodziny - aby były Bogiem silne, w środy do Miłosierdzia Bożego modlitwą uwielbienia, w czwartki dziękując za dar Eucharystii i za kapłanów - z dodatkową ofiarą dziennego postu ścisłego przez jedną osobę z naszej wspólnoty w środę poprzedzającą, w piątki na przeproszenie za popełnione zło i zaniechanie dobra.\\nmedyczną, rodzinną i wolontariat. Koronką do Miłosierdzia Bożego - codziennie, o g. 15.oo, w przestronnej kaplicy szpitalnej, wraz z Chorymi - także za opiekęmedyczną, rodzinną i wolontariat.\\nW Pierwsze Czwartki Miesiąca spotykamy się na naszej specjalnej Mszy św iętej , w naszej grupowej wspólnocie, którą przeżywamy z żywym naszym uczestnictwem - także przez nasz wspólny stosowny śpiew.\\nKażdy Pierwszy Piątek Miesiąca to nasza Adoracja Najświętszego Sakramentu w kościele Ojców Franciszkanów w Głubczycach - adorujemy także podczas systematycznych Adoracji parafialnych w naszej świątyni parafialnej.\\nW ramach modlitwy w izdebce każdego dnia rozważamy SŁOWO BOŻE w tzw. \"Namiocie Spotkania\" - zob. Wj. 33,7nn. Przeżywanym SŁOWEM dzielimy się na spotkaniach z braćmi - co umacnia w nas wiarę, nadzieję i miłość a to nie jedyne owoce, jakich doznajemy.\\nPodejmujemy także zadania i dzieła okresowe:\\nCo dwa lata organizujemy Seminarium Odnowy Wiary , najczęściej 8-9 tygodniowe. Katechezy głoszą kapłani zaproszeni z naszej diecezji.\\nCo 6 tygodni udajemy sie do kościoła śś Piotra i Pawła w Opolu na Mszę świętą z modlitwą o uzdrowienie .\\nRaz w roku spotykamy się w Częstochowie na Jasnej Górze u stóp Maryi ze wspólnotami z całej Polski (także z zagranicy) na Ogólnopolskim Czuwaniu Katolickiej Odnowy w Duchu Świętym - doświadczając przeżywania jedności z Bogiem i z braćmi. Jedność tę najbardziej obrazuje modlitwa uwielbienia - tak charakterystyczna dla całego Ruchu Odnowy w Duchu Świętym.\\nwśród grup z Diecezji Opolskiej na Jasnej Górze, 2003r.\\nW tym roku w pierwszą sobotę miesiąca kwietnia (2 kwietnia) pielgrzymowaliśmy na Jasną Górę, aby zawierzyć Matce Bożej naszą diecezję, biskupów i kapłanów, także nasze rodziny, dzieci i młodzież. Podczas Mszy świętej w kaplicy Cudownego Obrazu odczytaliśmy Akt Zawierzenia się Matce Bożej. Część osób z naszej grupy przyjęła Szkaplerz Karmelitański.\\nNa nasze wszelkie podobne wyjazdy i pielgrzymki zawsze zabierają się także osoby spoza grupy, które potem też często na dłużej włączają się w naszą wspólnotę.\\nOstatnio skorzystaliśmy z zaproszenia ks. Marcina, naszego niedawnego opiekuna, do kościoła śś Piotra i Pawła w Nowej Cerekwi, na czuwanie w intencji umocnienia wiary dzieci i młodzieży. Przybyliśmy tam z ochotą, bo każde zaproszenie nas do modlitwy traktujemy jako Bożą łaskę. Tę formę modlitwy wstawienniczej praktykowaliśmy już nieco wcześniej odwiedzając autobusem parafie Zawiszyce, Królowe, Lisięcice i Pietrowice Głubczyckie. Mamy nadzieję, że po niedawnej modlitwie w Nowej Cerekwi odwiedzimy także inne kościoły naszego dekanatu głubczyckiego.\\nDlatego:\\n- Przyjdźcie, a podzielimy się także z Wami nasza radosną wiarą!\\n- Gorąco zapraszamy, jesteśmy zawsze otwarci i zawsze czekamy!\\n- Duch Święty Pocieszyciel zawsze wynagradza tym, którzy Mu zaufają!\\nChwała Panu!\\nPS.: Bieżące informacje dotyczące naszej wspólnoty można także znaleźć w gablotce WIECZERNIKA w przedsionku naszego kościoła parafialnego w Głubczycach a odnośnie Odnowy w Diecezji Opolskiej - na stronie www.odnowa.opole.pl.\\nNiech zstąpi Duch Twój i odnowi oblicze ziemi, tej ziemi.\\ntekst przygotował Kazimierz.\\nOpiekunem KATOLICKIEJ ODNOWY W DUCHU ŚWIĘTYM w naszej Parafii - ze strony Księży - jest ks. ZYGMUNT N.'"
      ]
     },
     "execution_count": 12,
     "metadata": {},
     "output_type": "execute_result"
    }
   ],
   "source": [
    "df.iloc[27936]['text']"
   ]
  },
  {
   "cell_type": "code",
   "execution_count": 40,
   "metadata": {},
   "outputs": [
    {
     "data": {
      "text/plain": [
       "907"
      ]
     },
     "execution_count": 40,
     "metadata": {},
     "output_type": "execute_result"
    }
   ],
   "source": [
    "camel_count"
   ]
  }
 ],
 "metadata": {
  "kernelspec": {
   "display_name": "Python 3 (ipykernel)",
   "language": "python",
   "name": "python3"
  },
  "language_info": {
   "codemirror_mode": {
    "name": "ipython",
    "version": 3
   },
   "file_extension": ".py",
   "mimetype": "text/x-python",
   "name": "python",
   "nbconvert_exporter": "python",
   "pygments_lexer": "ipython3",
   "version": "3.8.3"
  }
 },
 "nbformat": 4,
 "nbformat_minor": 4
}
